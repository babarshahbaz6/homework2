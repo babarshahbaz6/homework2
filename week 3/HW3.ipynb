{
  "nbformat": 4,
  "nbformat_minor": 0,
  "metadata": {
    "colab": {
      "provenance": []
    },
    "kernelspec": {
      "name": "python3",
      "display_name": "Python 3"
    },
    "language_info": {
      "name": "python"
    }
  },
  "cells": [
    {
      "cell_type": "markdown",
      "source": [
        "<b>1. What is an algorithm?</b><bR>\n",
        "Group pf procedures put together for execution in an order is known as algorithm.\n",
        "\n",
        "<b> 2. Variable names may not start with certain characters - name two.</b><bR>\n",
        "\n",
        "*   It should not start with underscore(_)\n",
        "*   It should not start with number\n",
        "\n",
        "\n",
        "\n",
        "<b>3. What is a Semantic error?</b><bR>\n",
        "Logical error is known as sematic error.\n",
        "\n",
        "<b>4. What is the #1 rule of coding / debugging?</b><bR>\n",
        "The #1 rule is to test code and validate it frequently.\n",
        "\n",
        "\n",
        "<b>5. List 5 Python reserved words.</b><bR>\n",
        "NULL, IF, AND, OR, ELSE, TRUE\n",
        "\n"
      ],
      "metadata": {
        "id": "c7zJ-fwnyPIz"
      }
    },
    {
      "cell_type": "code",
      "source": [
        "#Write a multi-line string with your name, favorite food, and dream job on 3 different lines\n",
        "info = \"\"\"Sunny likes to\n",
        "eat Banana Cake and love to work as\n",
        "Data Analyst\"\"\"\n",
        "print(info)"
      ],
      "metadata": {
        "colab": {
          "base_uri": "https://localhost:8080/"
        },
        "id": "oocNuKGhz8wu",
        "outputId": "9132b5fa-98d3-4405-8559-c0d92c0c61ae"
      },
      "execution_count": null,
      "outputs": [
        {
          "output_type": "stream",
          "name": "stdout",
          "text": [
            "Sunny likes to\n",
            "eat Banana Cake and love to work as\n",
            "Data Analyst\n"
          ]
        }
      ]
    },
    {
      "cell_type": "code",
      "execution_count": null,
      "metadata": {
        "colab": {
          "base_uri": "https://localhost:8080/"
        },
        "id": "ELPzZe44yLTT",
        "outputId": "e0fb30f6-a40f-4613-ec4d-dbcb9be299f0"
      },
      "outputs": [
        {
          "output_type": "stream",
          "name": "stdout",
          "text": [
            "The length os the string is  12\n",
            "The index value of the 4th character in string is  n\n"
          ]
        }
      ],
      "source": [
        "# Assign 5 different data types to 5 different variables. At least one datatype must be a string\n",
        "# Print the length of your string\n",
        "# Print the index value of the 4th character in your string\n",
        "\n",
        "str1 = \"Sunny Shabaz\"\n",
        "int2 = 42\n",
        "flt3 = 3.14\n",
        "lst4 = [13, 45, 37, 44, 52]\n",
        "bool5= True\n",
        "\n",
        "print(\"The length os the string is \",len(str1))\n",
        "\n",
        "print(\"The index value of the 4th character in string is \",str1[3])"
      ]
    },
    {
      "cell_type": "code",
      "source": [
        "# Create a new variable called savvy, and assign it the string with this phrase \"Learning Data Analytics and Python is Awesome!\"\n",
        "# Return a range of characters that slices the above string from the beginning of \"ing\" up to before \"and\"\n",
        "# Replace \"Awesome\" with \"great\" in the string\n",
        "# Test and print the savvy string to see it contains \"Python\"\n",
        "\n",
        "savvy=\"Learning Data Analytics and Python is Awesome!\"\n",
        "\n",
        "savvy1 = savvy[savvy.index(\"ing\") : savvy.index(\"and\")].strip()\n",
        "print(savvy1)\n",
        "\n",
        "savvy2= savvy.replace(\"Awesome\", \"great\")\n",
        "print(savvy2)\n",
        "\n",
        "check_py = \"Python\" in savvy\n",
        "print(check_py)"
      ],
      "metadata": {
        "colab": {
          "base_uri": "https://localhost:8080/"
        },
        "id": "jjD823j70MLM",
        "outputId": "4ec079a0-5a13-4694-998a-ca2a26c33728"
      },
      "execution_count": null,
      "outputs": [
        {
          "output_type": "stream",
          "name": "stdout",
          "text": [
            "ing Data Analytics\n",
            "Learning Data Analytics and Python is great!\n",
            "True\n"
          ]
        }
      ]
    },
    {
      "cell_type": "code",
      "source": [
        "# Create and assign 3 more variables called name, age and length using the multi-variable naming method\n",
        "# Format a new string called 'miniBio' using variables in curly brackets to complete this phrase... \"Hi my name is (name), I am (tall) and (so) old today.\"\n",
        "# Print 'miniBio'\n",
        "# Cast and print the age variable to a float\n",
        "\n",
        "name, age, length = \"Sunny\", 25, 6.2\n",
        "\n",
        "# Formatting the string\n",
        "miniBio = f\"Hi, my name is {name}, I am {length} feet tall and {age} years old today.\"\n",
        "\n",
        "# Printing the formatted string\n",
        "print(miniBio)\n",
        "\n",
        "# Casting and printing the age variable as a float\n",
        "age_float = float(age)\n",
        "print(age_float)"
      ],
      "metadata": {
        "colab": {
          "base_uri": "https://localhost:8080/"
        },
        "id": "zRCpfuhx0N3h",
        "outputId": "fcd1fc5e-e2ad-4a23-ef55-2a04c4a42fd8"
      },
      "execution_count": null,
      "outputs": [
        {
          "output_type": "stream",
          "name": "stdout",
          "text": [
            "Hi, my name is Sunny, I am 6.2 feet tall and 25 years old today.\n",
            "25.0\n"
          ]
        }
      ]
    },
    {
      "cell_type": "code",
      "source": [
        "# Create a list of at least 5 elements of mixed data types\n",
        "# Replace a part of it with something else\n",
        "# Append or insert several more items to the list\n",
        "# Find and print the length of the list\n",
        "# Slice a sub-section of the 1st list, and save it to a different 2nd list\n",
        "# Print the 2nd list\n",
        "# Extend your original list with the 2nd list sliced above\n",
        "# Create a new list called \"simList\" containing at least 5 elements of the same data type, either string, integer, float, or Boolean\n",
        "# Sort \"simList\", and print the list\n",
        "# Copy the \"simList\" list to another 3rd list\n",
        "# Add the 2nd and 3rd lists together into a 4th list\n",
        "\n",
        "\n",
        "# Creating list1\n",
        "list1 = [42, \"Python\", 3.14, True, [1, 2, 3]]\n",
        "\n",
        "# Replacing string value in list1\n",
        "list1[1] = \"Data Analytics\"\n",
        "print(\"List1 after replacing \", list1)\n",
        "\n",
        "# Append or insert several more items to the list\n",
        "list1.append(23)\n",
        "list1.insert(4, 52)\n",
        "print(\"List1 after appending and insertion \",list1)\n",
        "print(\"Length of List1 \",len(list1))\n",
        "\n",
        "# Slicing the list1\n",
        "list2 = list1[1:3]\n",
        "print(\"Sliced List2 \", list2)\n",
        "list1.extend(list2)\n",
        "print(\"List1 + List2 \",list1)\n",
        "\n",
        "# Creaing a simList\n",
        "simList = [8.2, 3.0, 5.7, 1.4, 7.1]\n",
        "simList.sort()\n",
        "print(\"Sorted silList \",simList)\n",
        "\n",
        "# Copy the \"simList\" list to another 3rd list\n",
        "list3= simList.copy()\n",
        "\n",
        "list4 = list2 + list3\n",
        "print(\"List2 + List3\", list4)"
      ],
      "metadata": {
        "colab": {
          "base_uri": "https://localhost:8080/"
        },
        "id": "JppR5Vdr3-vm",
        "outputId": "aaea21f2-9d18-45f7-92b4-545bb8cfc779"
      },
      "execution_count": null,
      "outputs": [
        {
          "output_type": "stream",
          "name": "stdout",
          "text": [
            "List1 after replacing  [42, 'Data Analytics', 3.14, True, [1, 2, 3]]\n",
            "List1 after appending and insertion  [42, 'Data Analytics', 3.14, True, 52, [1, 2, 3], 23]\n",
            "Length of List1  7\n",
            "Sliced List2  ['Data Analytics', 3.14]\n",
            "List1 + List2  [42, 'Data Analytics', 3.14, True, 52, [1, 2, 3], 23, 'Data Analytics', 3.14]\n",
            "Sorted silList  [1.4, 3.0, 5.7, 7.1, 8.2]\n",
            "List2 + List3 ['Data Analytics', 3.14, 1.4, 3.0, 5.7, 7.1, 8.2]\n"
          ]
        }
      ]
    },
    {
      "cell_type": "code",
      "source": [
        "# Create a tuple of about 5 elements\n",
        "# Multiply your tuple by 3 and save it to a new 2nd tuple\n",
        "# Access and print the 12th element from the 2nd tuple\n",
        "# Sort the 2nd tuple and print it\n",
        "# Copy 4 specific elements from your 2nd tuple to a new 3nd tuple\n",
        "# Unpack the 3rd tuple into 4 variables and print these variables\n",
        "# Create a 4th tuple with single item 50 and print this tuple\n",
        "# Add the 2nd and 3rd tuple together into a 5th tuple and print the tuple\n",
        "\n",
        "tuple1 = (10, 52, 3.14, 77, 14)\n",
        "\n",
        "tuple2 = tuple1 * 3\n",
        "print(\"tuple2 \", tuple2)\n",
        "print(\"12th element in tuple2 \",tuple2[11])\n",
        "print(\"Sorted tuple2 \",tuple(sorted(tuple2)))\n",
        "\n",
        "tuple3 = (tuple2[1], tuple2[3], tuple2[5], tuple2[7])\n",
        "print(\"Tuple3 \",tuple3)\n",
        "\n",
        "a1, a2, a3, a4 = tuple3\n",
        "print(\"Unpacked tuple3 \",a1, a2, a3, a4)\n",
        "\n",
        "tuple4 = (50,)\n",
        "print(\"Tuple4 \",tuple4)\n",
        "\n",
        "tuple5 = tuple2 + tuple3\n",
        "print(\"tuple2+tuple3 \",tuple5)\n"
      ],
      "metadata": {
        "colab": {
          "base_uri": "https://localhost:8080/"
        },
        "id": "X201bAET3-tU",
        "outputId": "34eb34ae-653e-43fe-8249-d0e1a927afc4"
      },
      "execution_count": null,
      "outputs": [
        {
          "output_type": "stream",
          "name": "stdout",
          "text": [
            "tuple2  (10, 52, 3.14, 77, 14, 10, 52, 3.14, 77, 14, 10, 52, 3.14, 77, 14)\n",
            "12th element in tuple2  52\n",
            "Sorted tuple2  (3.14, 3.14, 3.14, 10, 10, 10, 14, 14, 14, 52, 52, 52, 77, 77, 77)\n",
            "Tuple3  (52, 77, 10, 3.14)\n",
            "Unpacked tuple3  52 77 10 3.14\n",
            "Tuple4  (50,)\n",
            "tuple2+tuple3  (10, 52, 3.14, 77, 14, 10, 52, 3.14, 77, 14, 10, 52, 3.14, 77, 14, 52, 77, 10, 3.14)\n"
          ]
        }
      ]
    },
    {
      "cell_type": "code",
      "source": [
        "# Create a set of about 3 elements\n",
        "# Add a list of fruits to the above set and print the result\n",
        "# Add a car element to your set\n",
        "# Create a 2nd set with a few odd items\n",
        "# Save the union of 1st set and 2nd set to a 3rd set\n",
        "# Pop an element from the 2nd set, and print the remainder of the set\n",
        "# Clear the 1st set and print the result\n",
        "# Discard an element, and remove another element from the 3rd set\n",
        "# Print the remainder of the 3rd set\n",
        "\n",
        "set1 = {\"Missouri\", \"Texas\", \"New York\"}\n",
        "print(\"set1: \",set1)\n",
        "\n",
        "lt_fruits = [\"Grapes\", \"Rasberry\", \"Blueberry\"]\n",
        "set1.update(lt_fruits)\n",
        "print(\"Updated set1 after adding fruits: \", set1)\n",
        "\n",
        "set1.add(\"car\")\n",
        "print(\"Updated set1 after adding a car: \", set1)\n",
        "\n",
        "set2 = {\"Jeep\", \"Pepper\", \"Sub\"}\n",
        "print(\"set2:\", set2)\n",
        "\n",
        "set3 = set1.union(set2)\n",
        "print(\"set3: \", set3)\n",
        "\n",
        "popped_elt = set2.pop()\n",
        "print(\"Popped element:\", popped_elt)\n",
        "print(\"Updated set2 after popping second element:\", set2)\n",
        "\n",
        "set1.clear()\n",
        "print(\"Updated set1 after clearing:\", set1)\n",
        "\n",
        "set3.discard(\"Sub\")\n",
        "set3.remove(\"Blueberry\")\n",
        "print(\"Updated set3 after discarding and removal:\", set3)"
      ],
      "metadata": {
        "id": "LHwhyNoX3-rB",
        "colab": {
          "base_uri": "https://localhost:8080/"
        },
        "outputId": "c1d3666a-fe28-48ac-dc16-e669f81faf4b"
      },
      "execution_count": 3,
      "outputs": [
        {
          "output_type": "stream",
          "name": "stdout",
          "text": [
            "set1:  {'New York', 'Texas', 'Missouri'}\n",
            "Updated set1 after adding fruits:  {'Missouri', 'Rasberry', 'Texas', 'Grapes', 'Blueberry', 'New York'}\n",
            "Updated set1 after adding a car:  {'Missouri', 'Rasberry', 'Texas', 'Grapes', 'Blueberry', 'New York', 'car'}\n",
            "set2: {'Pepper', 'Jeep', 'Sub'}\n",
            "set3:  {'Missouri', 'Rasberry', 'Grapes', 'Texas', 'Blueberry', 'Jeep', 'New York', 'car', 'Pepper', 'Sub'}\n",
            "Popped element: Pepper\n",
            "Updated set2 after popping second element: {'Jeep', 'Sub'}\n",
            "Updated set1 after clearing: set()\n",
            "Updated set3 after discarding and removal: {'Missouri', 'Rasberry', 'Grapes', 'Texas', 'Jeep', 'New York', 'car', 'Pepper'}\n"
          ]
        }
      ]
    },
    {
      "cell_type": "code",
      "source": [
        "# Create a dictionary with at least 5 values of different data types\n",
        "# Print out 1 value\n",
        "# Replace any one value in your dictionary with your name\n",
        "# Add your favorite color to the dictionary\n",
        "# Add a list, tuple or set to your dictionary\n",
        "# Print a list of the dictionary keys\n",
        "# Print a list of the dictionary values\n",
        "# Copy your 1st dictionary into a 2nd dictionary\n",
        "# Pop an item from the 2nd dictionary, and print the dictionary\n",
        "# Remove all the elements from the 2nd dictionary and print the result\n",
        "\n",
        "my_dict = {\n",
        "    \"year\": 2024,\n",
        "    \"place\": \"St Louis\",\n",
        "    \"status\": True,\n",
        "    \"price\": 2.34,\n",
        "    \"fruits\": [\"apple\", \"pineapple\", \"custardapple\"]\n",
        "}\n",
        "\n",
        "print(\"place value in my_dict is: \", my_dict[\"place\"])\n",
        "\n",
        "my_dict[\"place\"] = \"Sunny\"\n",
        "print(\"Updated dict after replacing place with my name: \", my_dict)\n",
        "\n",
        "my_dict[\"fav_color\"] = \"Grey\"\n",
        "print(\"Updated dictionary after adding fav_color: \", my_dict)\n",
        "\n",
        "my_dict[\"lt_fruits\"] = lt_fruits  # Adding existing fruit list to my_dict\n",
        "print(\"Updated dictionary after adding a list:\", my_dict)\n",
        "\n",
        "print(\"Dictionary keys: \", list(my_dict.keys()))\n",
        "\n",
        "print(\"Dictionary values: \", list(my_dict.values()))\n",
        "\n",
        "dict2 = my_dict.copy()\n",
        "print(\"dict2: \", dict2)\n",
        "\n",
        "pop_item = dict2.pop(\"status\")\n",
        "print(\"Popped item:\", pop_item)\n",
        "print(\"Updated dicct2 after popping status: \", dict2)\n",
        "\n",
        "dict2.clear()\n",
        "print(\" dict2 after clearing all elements: \", dict2)"
      ],
      "metadata": {
        "id": "z7SEcG5R3-o6",
        "colab": {
          "base_uri": "https://localhost:8080/"
        },
        "outputId": "44519be4-74b0-4276-bd4a-598b5c401a71"
      },
      "execution_count": 5,
      "outputs": [
        {
          "output_type": "stream",
          "name": "stdout",
          "text": [
            "place value in my_dict is:  St Louis\n",
            "Updated dict after replacing place with my name:  {'year': 2024, 'place': 'Sunny', 'status': True, 'price': 2.34, 'fruits': ['apple', 'pineapple', 'custardapple']}\n",
            "Updated dictionary after adding fav_color:  {'year': 2024, 'place': 'Sunny', 'status': True, 'price': 2.34, 'fruits': ['apple', 'pineapple', 'custardapple'], 'fav_color': 'Grey'}\n",
            "Updated dictionary after adding a list: {'year': 2024, 'place': 'Sunny', 'status': True, 'price': 2.34, 'fruits': ['apple', 'pineapple', 'custardapple'], 'fav_color': 'Grey', 'lt_fruits': ['Grapes', 'Rasberry', 'Blueberry']}\n",
            "Dictionary keys:  ['year', 'place', 'status', 'price', 'fruits', 'fav_color', 'lt_fruits']\n",
            "Dictionary values:  [2024, 'Sunny', True, 2.34, ['apple', 'pineapple', 'custardapple'], 'Grey', ['Grapes', 'Rasberry', 'Blueberry']]\n",
            "dict2:  {'year': 2024, 'place': 'Sunny', 'status': True, 'price': 2.34, 'fruits': ['apple', 'pineapple', 'custardapple'], 'fav_color': 'Grey', 'lt_fruits': ['Grapes', 'Rasberry', 'Blueberry']}\n",
            "Popped item: True\n",
            "Updated dicct2 after popping status:  {'year': 2024, 'place': 'Sunny', 'price': 2.34, 'fruits': ['apple', 'pineapple', 'custardapple'], 'fav_color': 'Grey', 'lt_fruits': ['Grapes', 'Rasberry', 'Blueberry']}\n",
            " dict2 after clearing all elements:  {}\n"
          ]
        }
      ]
    }
  ]
}