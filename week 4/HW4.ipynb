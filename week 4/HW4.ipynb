{
  "nbformat": 4,
  "nbformat_minor": 0,
  "metadata": {
    "colab": {
      "provenance": []
    },
    "kernelspec": {
      "name": "python3",
      "display_name": "Python 3"
    },
    "language_info": {
      "name": "python"
    }
  },
  "cells": [
    {
      "cell_type": "markdown",
      "source": [
        "<b>What does one need to do to use a module?</b><br>\n",
        "We need to import the module in python to use it.\n",
        "\n",
        "<b>Name a Module (not the DateTime Nodule) we looked at and write a line or 2 of code as an example using this module.</b><br>\n",
        "Module: Numpy([52,23,22])\n",
        "Ex: numpy.array\n",
        "\n",
        "<b>What is a benefit of using Exception handling?</b><br>\n",
        "By using exception handling we can avoid errors and debugging becomes easy.\n",
        "\n",
        "<b>what are the 4 components used for Python Exception Handling?</b><br>\n",
        "try, except, else, finally\n",
        "\n",
        "<b>NumPy arrays are like what Python data type?</b><br>\n",
        "Numpy array is like list datatype in python.\n",
        "\n",
        "<b>What is one of the main benefits of using NumPy arrays.</b><br>\n",
        "The main benefit of using using numpy array is to efficiently perform operations on the data.\n",
        "\n",
        "<b>What is one of the main requirements about the 'dtype' of NumPy arrays?</b><br>\n",
        "One of the main requirement about dtype is to store data in contiguous memory location.\n",
        "\n",
        "<b>Of the 10 uses of NumPy, name 2.</b><br>\n",
        "To perform airthmetic operation efficiently and access the data quickly.\n",
        "\n",
        "<b>Name one of the other libraries we'll use with NumPy?</b><br>\n",
        "Pandas\n",
        "\n",
        "<b>What is the shape of NumPy arrays?</b><br>\n",
        "The shape of the array represents the dimension of the array.\n",
        "\n",
        "<b>What is a Tensor?</b><br>\n",
        "A tensor is a single or multi dimensional array than has more than one dimension.\n",
        "\n",
        "<b>Name a reason why it's better using NumPy for Data Analysis than using a Python List?</b><br>\n",
        "The qucik access of data, makes it better using Numpy for data analysis and to perform mathematical operations.\n",
        "\n",
        "<b>When creating an \"empty\" array, where do the elements come from?</b><br>\n",
        "By default the empty array takes the value of memory location where it is created."
      ],
      "metadata": {
        "id": "XnqnUr0IhNZd"
      }
    },
    {
      "cell_type": "code",
      "execution_count": null,
      "metadata": {
        "id": "qcCgVuiHGV2W",
        "colab": {
          "base_uri": "https://localhost:8080/"
        },
        "outputId": "81efea6b-a67a-4a2d-b12d-5e7a1635f40b"
      },
      "outputs": [
        {
          "output_type": "stream",
          "name": "stdout",
          "text": [
            "Renting a car is very expensive.\n"
          ]
        }
      ],
      "source": [
        "# Create an if statement: if 'age' is greater than or equal to 25, print \"Renting a car is more affordable\", however if 'age' is less than 25, print \"Renting a car is very expensive.\"\n",
        "age = 24\n",
        "\n",
        "if age >= 25:\n",
        "    print(\"Renting a car is more affordable.\")\n",
        "else:\n",
        "    print(\"Renting a car is very expensive.\")"
      ]
    },
    {
      "cell_type": "code",
      "source": [
        "# Create and chain an if-else statement: if 'age' is greater than or equal to 25, print \"Renting a car is more affordable.\" If 'age' is less than 25 but greater than or equal to 18, print \"Renting a car is very expensive.\" Finally, if age is less than 18, print \"You cannot legally rent a car.\"\n",
        "age = 20\n",
        "\n",
        "if age >= 25:\n",
        "    print(\"Renting a car is more affordable.\")\n",
        "elif age >= 18:\n",
        "    print(\"Renting a car is very expensive.\")\n",
        "else:\n",
        "    print(\"You cannot legally rent a car.\")"
      ],
      "metadata": {
        "id": "L-pQfNQtgE_e",
        "colab": {
          "base_uri": "https://localhost:8080/"
        },
        "outputId": "fb86b835-bfe6-4bcb-eab9-85d9bc382146"
      },
      "execution_count": null,
      "outputs": [
        {
          "output_type": "stream",
          "name": "stdout",
          "text": [
            "Renting a car is very expensive.\n"
          ]
        }
      ]
    },
    {
      "cell_type": "code",
      "source": [
        "# Loop over the following string to (1) count all the characters in the string and (2) print out all the vowels -- \"The quick brown fox jumps over the lazy dog\"\n",
        "string = \"The quick brown fox jumps over the lazy dog\"\n",
        "vowels = \"aeiou\"\n",
        "vowel_count = 0\n",
        "\n",
        "for char in string:\n",
        "    if char in vowels:\n",
        "        print(char, end=\" \")\n",
        "    vowel_count += 1\n",
        "\n",
        "print(\"\\nTotal characters in the string:\", vowel_count)"
      ],
      "metadata": {
        "id": "bD2TCnBigHYB",
        "colab": {
          "base_uri": "https://localhost:8080/"
        },
        "outputId": "c8668aff-43f2-4fb6-b6c6-e47c3c2f20a3"
      },
      "execution_count": null,
      "outputs": [
        {
          "output_type": "stream",
          "name": "stdout",
          "text": [
            "e u i o o u o e e a o \n",
            "Total characters in the string: 43\n"
          ]
        }
      ]
    },
    {
      "cell_type": "code",
      "source": [
        "# Write a nested loop that prints out every piece of clothing from the couture list, in every fashionable color from the panettone set: couture = [\"trousers\", \"blouse\", \"bandana\", \"cumber band\", \"blazer\", \"vest\", \"french beret\", \"scarf\", \"stole\"] and panettone = {\"cerise\", \"fuchsia\", \"aqua\", \"maple\", \"auburn\", \"burnt sienna\", \"gunmetal blue\", \"Dark Sapphire\"}\n",
        "couture = [\"trousers\", \"blouse\", \"bandana\", \"cumber band\", \"blazer\", \"vest\", \"french beret\", \"scarf\", \"stole\"]\n",
        "panettone = {\"cerise\", \"fuchsia\", \"aqua\", \"maple\", \"auburn\", \"burnt sienna\", \"gunmetal blue\", \"Dark Sapphire\"}\n",
        "\n",
        "for clothing in couture:\n",
        "    for color in panettone:\n",
        "        print(f\"{color} {clothing}\")"
      ],
      "metadata": {
        "id": "Bubnvc2PgI8W",
        "colab": {
          "base_uri": "https://localhost:8080/"
        },
        "outputId": "779e5913-6826-43a0-ab6b-bbbd1cd30345"
      },
      "execution_count": null,
      "outputs": [
        {
          "output_type": "stream",
          "name": "stdout",
          "text": [
            "fuchsia trousers\n",
            "burnt sienna trousers\n",
            "gunmetal blue trousers\n",
            "Dark Sapphire trousers\n",
            "aqua trousers\n",
            "cerise trousers\n",
            "auburn trousers\n",
            "maple trousers\n",
            "fuchsia blouse\n",
            "burnt sienna blouse\n",
            "gunmetal blue blouse\n",
            "Dark Sapphire blouse\n",
            "aqua blouse\n",
            "cerise blouse\n",
            "auburn blouse\n",
            "maple blouse\n",
            "fuchsia bandana\n",
            "burnt sienna bandana\n",
            "gunmetal blue bandana\n",
            "Dark Sapphire bandana\n",
            "aqua bandana\n",
            "cerise bandana\n",
            "auburn bandana\n",
            "maple bandana\n",
            "fuchsia cumber band\n",
            "burnt sienna cumber band\n",
            "gunmetal blue cumber band\n",
            "Dark Sapphire cumber band\n",
            "aqua cumber band\n",
            "cerise cumber band\n",
            "auburn cumber band\n",
            "maple cumber band\n",
            "fuchsia blazer\n",
            "burnt sienna blazer\n",
            "gunmetal blue blazer\n",
            "Dark Sapphire blazer\n",
            "aqua blazer\n",
            "cerise blazer\n",
            "auburn blazer\n",
            "maple blazer\n",
            "fuchsia vest\n",
            "burnt sienna vest\n",
            "gunmetal blue vest\n",
            "Dark Sapphire vest\n",
            "aqua vest\n",
            "cerise vest\n",
            "auburn vest\n",
            "maple vest\n",
            "fuchsia french beret\n",
            "burnt sienna french beret\n",
            "gunmetal blue french beret\n",
            "Dark Sapphire french beret\n",
            "aqua french beret\n",
            "cerise french beret\n",
            "auburn french beret\n",
            "maple french beret\n",
            "fuchsia scarf\n",
            "burnt sienna scarf\n",
            "gunmetal blue scarf\n",
            "Dark Sapphire scarf\n",
            "aqua scarf\n",
            "cerise scarf\n",
            "auburn scarf\n",
            "maple scarf\n",
            "fuchsia stole\n",
            "burnt sienna stole\n",
            "gunmetal blue stole\n",
            "Dark Sapphire stole\n",
            "aqua stole\n",
            "cerise stole\n",
            "auburn stole\n",
            "maple stole\n"
          ]
        }
      ]
    },
    {
      "cell_type": "code",
      "source": [
        "# Use range as a loop to calculate the sum of all the numbers from 1 to 100\n",
        "N_numbers = sum(range(1, 101))\n",
        "print(\"Sum of numbers from 1 to 100:\",N_numbers)"
      ],
      "metadata": {
        "id": "m2gGvxEggLrX",
        "colab": {
          "base_uri": "https://localhost:8080/"
        },
        "outputId": "352259d6-500c-4884-e347-ecfa2c502d38"
      },
      "execution_count": null,
      "outputs": [
        {
          "output_type": "stream",
          "name": "stdout",
          "text": [
            "Sum of numbers from 1 to 100: 5050\n"
          ]
        }
      ]
    },
    {
      "cell_type": "code",
      "source": [
        "# Print the second item in this fruits list. [\"apple\", \"banana\", \"cherry\"]\n",
        "fruits = [\"apple\", \"banana\", \"cherry\"]\n",
        "print(fruits[1])"
      ],
      "metadata": {
        "id": "omizFLqBgNT3",
        "colab": {
          "base_uri": "https://localhost:8080/"
        },
        "outputId": "6b0fff07-c12e-45d4-aeb0-6fb31a10b983"
      },
      "execution_count": null,
      "outputs": [
        {
          "output_type": "stream",
          "name": "stdout",
          "text": [
            "banana\n"
          ]
        }
      ]
    },
    {
      "cell_type": "code",
      "source": [
        "# Change the value from \"apple\" to \"kiwi\", in the fruits list. [\"apple\", \"banana\", \"cherry\"]\n",
        "fruits = [\"apple\", \"banana\", \"cherry\"]\n",
        "fruits[0] = \"kiwi\"\n",
        "print(fruits)"
      ],
      "metadata": {
        "id": "8nbwozOZgPP3",
        "colab": {
          "base_uri": "https://localhost:8080/"
        },
        "outputId": "d0a2f8d0-ccd3-4cdf-c36b-ee414ec50386"
      },
      "execution_count": null,
      "outputs": [
        {
          "output_type": "stream",
          "name": "stdout",
          "text": [
            "['kiwi', 'banana', 'cherry']\n"
          ]
        }
      ]
    },
    {
      "cell_type": "code",
      "source": [
        "# Use the append method to add \"orange\" to the fruits list. [\"apple\", \"banana\", \"cherry\"]\n",
        "fruits = [\"apple\", \"banana\", \"cherry\"]\n",
        "fruits.append(\"orange\")\n",
        "print(fruits)"
      ],
      "metadata": {
        "id": "TTLYJC4NgROF",
        "colab": {
          "base_uri": "https://localhost:8080/"
        },
        "outputId": "c7437fbd-3ce0-4c47-c4cf-fa46ba5199c6"
      },
      "execution_count": null,
      "outputs": [
        {
          "output_type": "stream",
          "name": "stdout",
          "text": [
            "['apple', 'banana', 'cherry', 'orange']\n"
          ]
        }
      ]
    },
    {
      "cell_type": "code",
      "source": [
        "# Use the insert method to add \"lemon\" as the second item in the fruits list. [\"apple\", \"banana\", \"cherry\"]\n",
        "fruits = [\"apple\", \"banana\", \"cherry\"]\n",
        "fruits.insert(1, \"lemon\")\n",
        "print(fruits)"
      ],
      "metadata": {
        "id": "JeIVQB-6gTJT",
        "colab": {
          "base_uri": "https://localhost:8080/"
        },
        "outputId": "edcba198-b642-4af7-9b15-4bb06a8b4ec6"
      },
      "execution_count": null,
      "outputs": [
        {
          "output_type": "stream",
          "name": "stdout",
          "text": [
            "['apple', 'lemon', 'banana', 'cherry']\n"
          ]
        }
      ]
    },
    {
      "cell_type": "code",
      "source": [
        "# Use the remove method to remove \"banana\" from the fruits list. [\"apple\", \"banana\", \"cherry\"]\n",
        "fruits = [\"apple\", \"banana\", \"cherry\"]\n",
        "fruits.remove(\"banana\")\n",
        "print(fruits)"
      ],
      "metadata": {
        "id": "ex1mbI4mgUho",
        "colab": {
          "base_uri": "https://localhost:8080/"
        },
        "outputId": "0e518c38-cc67-4116-ed49-cef2bdcc39fe"
      },
      "execution_count": null,
      "outputs": [
        {
          "output_type": "stream",
          "name": "stdout",
          "text": [
            "['apple', 'cherry']\n"
          ]
        }
      ]
    },
    {
      "cell_type": "code",
      "source": [
        "# Use negative indexing to print the 3rd and 2nd to last items in the list. [\"apple\", \"banana\", \"cherry\", \"orange\", \"kiwi\", \"melon\", \"mango\"]\n",
        "fruits = [\"apple\", \"banana\", \"cherry\", \"orange\", \"kiwi\", \"melon\", \"mango\"]\n",
        "print(\"The last 3rd item in the list is \",fruits[-3])\n",
        "print(\"The last 2nd item in the list is \",fruits[-2])"
      ],
      "metadata": {
        "id": "Dreteoi3gV51",
        "colab": {
          "base_uri": "https://localhost:8080/"
        },
        "outputId": "f6e967d0-74b1-4020-9e43-f18fbb5dbf2a"
      },
      "execution_count": null,
      "outputs": [
        {
          "output_type": "stream",
          "name": "stdout",
          "text": [
            "The last 3rd item in the list is  kiwi\n",
            "The last 2nd item in the list is  melon\n"
          ]
        }
      ]
    },
    {
      "cell_type": "code",
      "source": [
        "# Use a range of indexes to print the third, fourth, and fifth item in the list. [\"apple\", \"banana\", \"cherry\", \"orange\", \"kiwi\", \"melon\", \"mango\"]\n",
        "fruits = [\"apple\", \"banana\", \"cherry\", \"orange\", \"kiwi\", \"melon\", \"mango\"]\n",
        "print(\"The third, fourth, and fifth item in the fruit list is\",fruits[2:5])"
      ],
      "metadata": {
        "id": "4b96RSp-gXKw",
        "colab": {
          "base_uri": "https://localhost:8080/"
        },
        "outputId": "3048bba5-6200-4453-ec21-e6f775d8b943"
      },
      "execution_count": null,
      "outputs": [
        {
          "output_type": "stream",
          "name": "stdout",
          "text": [
            "The third, fourth, and fifth item in the fruit list is ['cherry', 'orange', 'kiwi']\n"
          ]
        }
      ]
    },
    {
      "cell_type": "code",
      "source": [
        "# Use the correct syntax to print the number of items in the list. [\"apple\", \"banana\", \"cherry\", \"orange\", \"kiwi\", \"melon\", \"mango\"]\n",
        "fruits = [\"apple\", \"banana\", \"cherry\", \"orange\", \"kiwi\", \"melon\", \"mango\"]\n",
        "print(\"The lenght of the fruits list is \",len(fruits))"
      ],
      "metadata": {
        "id": "LxWYqgNSgYrU"
      },
      "execution_count": null,
      "outputs": []
    },
    {
      "cell_type": "code",
      "source": [
        "# Use the correct syntax to sort this list in reverse order [\"apple\", \"banana\", \"cherry\", \"orange\", \"kiwi\", \"melon\", \"mango\"]\n",
        "fruits = [\"apple\", \"banana\", \"cherry\", \"orange\", \"kiwi\", \"melon\", \"mango\"]\n",
        "fruits.sort(reverse=True)\n",
        "print(\"The reverse order of the list is \",fruits)"
      ],
      "metadata": {
        "id": "r0unyc5cgZy6",
        "colab": {
          "base_uri": "https://localhost:8080/"
        },
        "outputId": "8f126e2b-7f76-40e1-9325-f262da9a740f"
      },
      "execution_count": null,
      "outputs": [
        {
          "output_type": "stream",
          "name": "stdout",
          "text": [
            "The reverse order of the list is  ['orange', 'melon', 'mango', 'kiwi', 'cherry', 'banana', 'apple']\n"
          ]
        }
      ]
    },
    {
      "cell_type": "code",
      "source": [
        "# Use the DateTime module to get Current Date and Time, and save it to a variable. Then extract just the Full month name form that variable.\n",
        "import datetime\n",
        "current_datetime = datetime.datetime.now()\n",
        "month_name = current_datetime.strftime(\"%B\")\n",
        "print(\"Current month:\", month_name)"
      ],
      "metadata": {
        "colab": {
          "base_uri": "https://localhost:8080/"
        },
        "id": "QfsOMrePmftt",
        "outputId": "bc363994-5d4c-4626-c7c7-c570c10d58ab"
      },
      "execution_count": null,
      "outputs": [
        {
          "output_type": "stream",
          "name": "stdout",
          "text": [
            "Current month: August\n"
          ]
        }
      ]
    },
    {
      "cell_type": "code",
      "source": [
        "# Write a simple function that takes 2 parameters -- a first name and a day name.\n",
        "# Set a default value for the day name of Sunday.\n",
        "# Have the function print out a greeting -- using the parameters -- that says something like \"Hi first-name! Happy day-name!\". Remember to use the variables in the greeting to replace first-name and day-name.\n",
        "# Invoke this function with 2 variables.\n",
        "# Invoke this function with 1 variable only.\n",
        "\n",
        "def greet(first_name, day_name=\"Sunday\"):\n",
        "    print(f\"Hi {first_name}! Happy {day_name}!\")\n",
        "\n",
        "greet(\"Alice\", \"Monday\")\n",
        "greet(\"Bob\")"
      ],
      "metadata": {
        "colab": {
          "base_uri": "https://localhost:8080/"
        },
        "id": "KIj34BbFmqyF",
        "outputId": "9c8d0c66-d369-4b63-ba39-6e2e546b2407"
      },
      "execution_count": null,
      "outputs": [
        {
          "output_type": "stream",
          "name": "stdout",
          "text": [
            "Hi Alice! Happy Monday!\n",
            "Hi Bob! Happy Sunday!\n"
          ]
        }
      ]
    },
    {
      "cell_type": "code",
      "source": [
        "# Write a block of code to handle one of the most common Python exception errors.\n",
        "# Select one of the common errors from the curriculum section on Python Exception handling.\n",
        "# Have your code example uses the try,except, else, and finally components.\n",
        "\n",
        "def divide_numbers(numerator, denominator):\n",
        "    try:\n",
        "        result = numerator / denominator\n",
        "    except ZeroDivisionError:\n",
        "        print(\"Error: Division by zero is not allowed.\")\n",
        "    else:\n",
        "        print(f\"Division successful! The result is {result}.\")\n",
        "    finally:\n",
        "        print(\"Division operation complete.\")\n",
        "\n",
        "print(\"Dividing by 0 /n\",divide_numbers(10, 0))\n",
        "print(\"Dividing by 2 /n\",divide_numbers(10, 2))\n"
      ],
      "metadata": {
        "colab": {
          "base_uri": "https://localhost:8080/"
        },
        "id": "XgkGzsUFx2eg",
        "outputId": "fca179f6-c957-4825-8a61-7c9df38b363c"
      },
      "execution_count": null,
      "outputs": [
        {
          "output_type": "stream",
          "name": "stdout",
          "text": [
            "Error: Division by zero is not allowed.\n",
            "Division operation complete.\n",
            "Dividing by 0 /n None\n",
            "Division successful! The result is 5.0.\n",
            "Division operation complete.\n",
            "Dividing by 2 /n None\n"
          ]
        }
      ]
    }
  ]
}