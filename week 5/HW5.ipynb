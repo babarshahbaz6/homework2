{
  "nbformat": 4,
  "nbformat_minor": 0,
  "metadata": {
    "colab": {
      "provenance": []
    },
    "kernelspec": {
      "name": "python3",
      "display_name": "Python 3"
    },
    "language_info": {
      "name": "python"
    }
  },
  "cells": [
    {
      "cell_type": "markdown",
      "source": [
        "<b>What does Pandas stand for?</b><br>\n",
        "Pandas stands for \"Panel Data\". It is multi-dimensional data.\n",
        "\n",
        "<b>What are the 2 collections used in Pandas?</b><br>\n",
        "Series and DataFrame are two main collections in pandas.\n",
        "\n",
        "<b>Name 4 things Pandas can do for us.</b><br>\n",
        "We can load data file, know the dimension and shape of the data, understand the data through summary() and merge multiple dataframes.\n",
        "\n",
        "<b>To permanently sort a DataFrame, which keyword should one use with the df.sort() method?</b><br>\n",
        "inplace() is used to sort dataframe.\n",
        "\n",
        "<b>What is a CSV?</b><br>\n",
        "CSV is comma separated file. It is structured data format.\n",
        "\n",
        "<b>When cleaning data what values do we not like in our data?</b><br>\n",
        "Null values and extreme values."
      ],
      "metadata": {
        "id": "cc3siLQ6y6VP"
      }
    },
    {
      "cell_type": "code",
      "execution_count": 14,
      "metadata": {
        "colab": {
          "base_uri": "https://localhost:8080/"
        },
        "id": "8qylsgKkyzrj",
        "outputId": "f54168e2-2f37-473c-ae70-0aa0c158bbb8"
      },
      "outputs": [
        {
          "output_type": "stream",
          "name": "stdout",
          "text": [
            "Array with shape (2, 3, 2):\n",
            " [[[ 0  1]\n",
            "  [ 2  3]\n",
            "  [ 4  5]]\n",
            "\n",
            " [[ 6  7]\n",
            "  [ 8  9]\n",
            "  [10 11]]]\n"
          ]
        }
      ],
      "source": [
        "# Import NumPy, use one of the NumPy methods and create an array with a shape of (2, 3, 2). You can use the reshape method -- .reshape()\n",
        "import numpy as np\n",
        "arr = np.arange(12).reshape(2, 3, 2)\n",
        "print(\"Array with shape (2, 3, 2):\\n\", arr)"
      ]
    },
    {
      "cell_type": "code",
      "source": [
        "# Use NumPy .linspace() to create an array with 6 linearly spaced values between 0 and 20\n",
        "ln_arr = np.linspace(0, 20, 6)\n",
        "print(\"Array with 6 linearly spaced values between 0 and 20:\\n\", ln_arr)"
      ],
      "metadata": {
        "colab": {
          "base_uri": "https://localhost:8080/"
        },
        "id": "hMEmXCOME3hr",
        "outputId": "8a60f122-e783-421a-d738-97b1046cf2d7"
      },
      "execution_count": 7,
      "outputs": [
        {
          "output_type": "stream",
          "name": "stdout",
          "text": [
            "Array with 6 linearly spaced values between 0 and 20:\n",
            " [ 0.  4.  8. 12. 16. 20.]\n"
          ]
        }
      ]
    },
    {
      "cell_type": "code",
      "source": [
        "# Make a Deep Copy of the above array\n",
        "dc_arr= np.copy(ln_arr)\n",
        "print(\"Deep Copy arr is \",dc_arr)"
      ],
      "metadata": {
        "colab": {
          "base_uri": "https://localhost:8080/"
        },
        "id": "0CrbVm9FE3eO",
        "outputId": "1c0946af-e376-41b2-a6aa-af09a5cc57cf"
      },
      "execution_count": 9,
      "outputs": [
        {
          "output_type": "stream",
          "name": "stdout",
          "text": [
            "Deep Copy arr is  [ 0.  4.  8. 12. 16. 20.]\n"
          ]
        }
      ]
    },
    {
      "cell_type": "code",
      "source": [
        "# Concatenate these 3 arrays into a new array named 'newArray'...\n",
        "# ([[25, 16]])\n",
        "# ([[11, 2], [13, 4]])\n",
        "# ([[7, 81], [5, 6], [11, 12]])\n",
        "\n",
        "ct_arr = np.concatenate([\n",
        "    np.array([[25, 16]]),\n",
        "    np.array([[11, 2], [13, 4]]),\n",
        "    np.array([[7, 81], [5, 6], [11, 12]])\n",
        "])\n",
        "print(\"Concatenated Array:\\n\", ct_arr)"
      ],
      "metadata": {
        "colab": {
          "base_uri": "https://localhost:8080/"
        },
        "id": "xxeO4mYKE3cD",
        "outputId": "763e5506-b82c-4764-81f8-2b50c8e4269e"
      },
      "execution_count": 11,
      "outputs": [
        {
          "output_type": "stream",
          "name": "stdout",
          "text": [
            "Concatenated Array:\n",
            " [[25 16]\n",
            " [11  2]\n",
            " [13  4]\n",
            " [ 7 81]\n",
            " [ 5  6]\n",
            " [11 12]]\n"
          ]
        }
      ]
    },
    {
      "cell_type": "code",
      "source": [
        "# Sort 'newArray' in order into 'sortedArray'\n",
        "sorted_arr = np.sort(ct_arr)\n",
        "print(\"Sorted Array:\\n\", sorted_arr)"
      ],
      "metadata": {
        "colab": {
          "base_uri": "https://localhost:8080/"
        },
        "id": "KxUT5MSqE3Zc",
        "outputId": "99683278-e1c3-4aaf-d124-8cc78111da2f"
      },
      "execution_count": 12,
      "outputs": [
        {
          "output_type": "stream",
          "name": "stdout",
          "text": [
            "Sorted Array:\n",
            " [[16 25]\n",
            " [ 2 11]\n",
            " [ 4 13]\n",
            " [ 7 81]\n",
            " [ 5  6]\n",
            " [11 12]]\n"
          ]
        }
      ]
    },
    {
      "cell_type": "code",
      "source": [
        "# Unpack the array tuples from the above 'reshapedArray' into 4 well named variables. Print the 4 variables.\n",
        "(x1, x2, x3) = arr[0]\n",
        "(y1, y2, y3) = arr[1]\n",
        "\n",
        "print(\"unpacked array:\\n\",x1,x2,x3,y1,y2,y3)"
      ],
      "metadata": {
        "colab": {
          "base_uri": "https://localhost:8080/"
        },
        "id": "Q0uz1KkyE3Xm",
        "outputId": "549cb449-076d-45cd-d75c-694a053f3c91"
      },
      "execution_count": 16,
      "outputs": [
        {
          "output_type": "stream",
          "name": "stdout",
          "text": [
            "unpacked array:\n",
            " [0 1] [2 3] [4 5] [6 7] [8 9] [10 11]\n"
          ]
        }
      ]
    },
    {
      "cell_type": "code",
      "source": [
        "# Combined and sort the following arrays into one called 'comboArray' ...\n",
        "one = ([10, 11, 12, 13, 14, 15, 16, 17])\n",
        "two = ([20, 21, 22, 23, 24, 25, 26, 27])\n",
        "three = ([ 0, 1, 2, 3, 4, 5, 6, 7])\n",
        "comboArray = np.sort(np.concatenate([one, two, three]))\n",
        "print(\"comboArray:\\n\", comboArray)"
      ],
      "metadata": {
        "colab": {
          "base_uri": "https://localhost:8080/"
        },
        "id": "ruK6MM0JE3VS",
        "outputId": "0f601e22-9b24-46c3-cab7-a65de03fa06a"
      },
      "execution_count": 19,
      "outputs": [
        {
          "output_type": "stream",
          "name": "stdout",
          "text": [
            "comboArray:\n",
            " [ 0  1  2  3  4  5  6  7 10 11 12 13 14 15 16 17 20 21 22 23 24 25 26 27]\n"
          ]
        }
      ]
    },
    {
      "cell_type": "code",
      "source": [
        "# Take 'comboArray' and perform the following slicing activities:\n",
        "# print sec1 - the 2nd element\n",
        "sec1 = comboArray[1]\n",
        "print(\"sec1:\",sec1)\n",
        "\n",
        "# print sec2 - all elements from the 3rd element to the last\n",
        "sec2 = comboArray[2:]\n",
        "print(\"sec2:\",sec2)\n",
        "\n",
        "# print sec3 - all elements from the 4th to the 14th elements\n",
        "sec3 = comboArray[3:14]\n",
        "print(\"sec3:\",sec3)\n",
        "\n",
        "# print sec4 - the last 6 elements\n",
        "sec4 = comboArray[-6:]\n",
        "print(\"sec4:\",sec4)\n",
        "\n",
        "# print sec5 - all element from #0 up to and including #15, using the negative number method, i.e. taking a section from the end.\n",
        "sec5 = comboArray[:-15:-1]\n",
        "print(\"sec5:\",sec5)\n",
        "\n",
        "# print sec6 - from #20 every even element to the end\n",
        "sec6 = comboArray[20::2]\n",
        "print(\"sec6:\",sec6)\n",
        "\n",
        "# print sec7 - from the last element moving forward, every 5th element.\n",
        "sec7 = comboArray[::-5]\n",
        "print(\"sec7:\",sec7)"
      ],
      "metadata": {
        "colab": {
          "base_uri": "https://localhost:8080/"
        },
        "id": "0Jfv-60KE3TK",
        "outputId": "702b6994-d3cb-4ebc-bb69-c1df6722ad24"
      },
      "execution_count": 20,
      "outputs": [
        {
          "output_type": "stream",
          "name": "stdout",
          "text": [
            "sec1: 1\n",
            "sec2: [ 2  3  4  5  6  7 10 11 12 13 14 15 16 17 20 21 22 23 24 25 26 27]\n",
            "sec3: [ 3  4  5  6  7 10 11 12 13 14 15]\n",
            "sec4: [22 23 24 25 26 27]\n",
            "sec5: [27 26 25 24 23 22 21 20 17 16 15 14 13 12]\n",
            "sec6: [24 26]\n",
            "sec7: [27 22 15 10  3]\n"
          ]
        }
      ]
    },
    {
      "cell_type": "code",
      "source": [
        "# Using Series, create a DataFrame that looks like this:\n",
        "\n",
        "# Ingredients\tQuantity\tUnit\n",
        "# Flour\t4\tcups\n",
        "# Milk\t1\tcup\n",
        "# Eggs\t2\tlarge\n",
        "# Spam\t1\tcan\n",
        "# Name: Dinner, dtype: object\n",
        "import pandas as pd\n",
        "\n",
        "dic={\n",
        "    'Ingredients': ['Flour', 'Milk', 'Eggs', 'Spam'],\n",
        "    'Quantity': [4, 1, 2, 1],\n",
        "    'Unit': ['cups', 'cup', 'large', 'can']\n",
        "}\n",
        "Dinner = pd.DataFrame(dic)\n",
        "print(\"\\nDataFrame\", Dinner)"
      ],
      "metadata": {
        "colab": {
          "base_uri": "https://localhost:8080/"
        },
        "id": "MGk2xsfyE3Q0",
        "outputId": "6e8d094d-ab4f-46b7-e9e4-cbf1a06ebf2b"
      },
      "execution_count": 22,
      "outputs": [
        {
          "output_type": "stream",
          "name": "stdout",
          "text": [
            "\n",
            "DataFrame   Ingredients  Quantity   Unit\n",
            "0       Flour         4   cups\n",
            "1        Milk         1    cup\n",
            "2        Eggs         2  large\n",
            "3        Spam         1    can\n"
          ]
        }
      ]
    },
    {
      "cell_type": "code",
      "source": [
        "# Take this data and create a DataFrame named studentData\n",
        "info=    {'Name': ['Jai', 'janusha', 'Gaurav', 'Anuj'],\n",
        "        'Height': [5.1, 6.2, 5.1, 5.2],\n",
        "        'Qualification': ['Msc', 'MA', 'Msc', 'Msc'],\n",
        "        'address': ['Delhi', 'Doha', 'Chennai', 'Dakhar'],\n",
        "        'Age': [21, 23, 24, 21],\n",
        "        'Pets': ['Dog', 'Bunny', 'Chinchilla', 'Parrot'],\n",
        "        'sport': ['Darts', 'Basketball', 'PaddleBoarding', 'Cricket']\n",
        "    }\n",
        "\n",
        "student_df = pd.DataFrame(info)"
      ],
      "metadata": {
        "id": "7nZioCP1E3Oe"
      },
      "execution_count": 23,
      "outputs": []
    },
    {
      "cell_type": "code",
      "source": [
        "# Add a new column to the DataFrame with the following deserts: [\"ice cream\", \"Cashew Fudge\", \"waffels\", \"Carrot Halwa\"]\n",
        "student_df['Desserts'] = [\"Ice cream\", \"Cashew Fudge\", \"Waffles\", \"Carrot Halwa\"]"
      ],
      "metadata": {
        "id": "SF9fRAOKE3MH"
      },
      "execution_count": 24,
      "outputs": []
    },
    {
      "cell_type": "code",
      "source": [
        "# Sort the 'studentData' DataFrame in Ascending order -- Sorting by column 'Name' and then \"address\"\n",
        "sorted_student = student_df.sort_values(by=['Name', 'address'])\n",
        "sorted_student"
      ],
      "metadata": {
        "colab": {
          "base_uri": "https://localhost:8080/",
          "height": 175
        },
        "id": "5Xm3MeT5E3Jz",
        "outputId": "26e33314-55a7-4185-954f-0184153a5f1b"
      },
      "execution_count": 27,
      "outputs": [
        {
          "output_type": "execute_result",
          "data": {
            "text/plain": [
              "      Name  Height Qualification  address  Age        Pets           sport  \\\n",
              "3     Anuj     5.2           Msc   Dakhar   21      Parrot         Cricket   \n",
              "2   Gaurav     5.1           Msc  Chennai   24  Chinchilla  PaddleBoarding   \n",
              "0      Jai     5.1           Msc    Delhi   21         Dog           Darts   \n",
              "1  janusha     6.2            MA     Doha   23       Bunny      Basketball   \n",
              "\n",
              "       Desserts  \n",
              "3  Carrot Halwa  \n",
              "2       Waffles  \n",
              "0     Ice cream  \n",
              "1  Cashew Fudge  "
            ],
            "text/html": [
              "\n",
              "  <div id=\"df-53bd862a-2793-4480-9f06-75d32481dc37\" class=\"colab-df-container\">\n",
              "    <div>\n",
              "<style scoped>\n",
              "    .dataframe tbody tr th:only-of-type {\n",
              "        vertical-align: middle;\n",
              "    }\n",
              "\n",
              "    .dataframe tbody tr th {\n",
              "        vertical-align: top;\n",
              "    }\n",
              "\n",
              "    .dataframe thead th {\n",
              "        text-align: right;\n",
              "    }\n",
              "</style>\n",
              "<table border=\"1\" class=\"dataframe\">\n",
              "  <thead>\n",
              "    <tr style=\"text-align: right;\">\n",
              "      <th></th>\n",
              "      <th>Name</th>\n",
              "      <th>Height</th>\n",
              "      <th>Qualification</th>\n",
              "      <th>address</th>\n",
              "      <th>Age</th>\n",
              "      <th>Pets</th>\n",
              "      <th>sport</th>\n",
              "      <th>Desserts</th>\n",
              "    </tr>\n",
              "  </thead>\n",
              "  <tbody>\n",
              "    <tr>\n",
              "      <th>3</th>\n",
              "      <td>Anuj</td>\n",
              "      <td>5.2</td>\n",
              "      <td>Msc</td>\n",
              "      <td>Dakhar</td>\n",
              "      <td>21</td>\n",
              "      <td>Parrot</td>\n",
              "      <td>Cricket</td>\n",
              "      <td>Carrot Halwa</td>\n",
              "    </tr>\n",
              "    <tr>\n",
              "      <th>2</th>\n",
              "      <td>Gaurav</td>\n",
              "      <td>5.1</td>\n",
              "      <td>Msc</td>\n",
              "      <td>Chennai</td>\n",
              "      <td>24</td>\n",
              "      <td>Chinchilla</td>\n",
              "      <td>PaddleBoarding</td>\n",
              "      <td>Waffles</td>\n",
              "    </tr>\n",
              "    <tr>\n",
              "      <th>0</th>\n",
              "      <td>Jai</td>\n",
              "      <td>5.1</td>\n",
              "      <td>Msc</td>\n",
              "      <td>Delhi</td>\n",
              "      <td>21</td>\n",
              "      <td>Dog</td>\n",
              "      <td>Darts</td>\n",
              "      <td>Ice cream</td>\n",
              "    </tr>\n",
              "    <tr>\n",
              "      <th>1</th>\n",
              "      <td>janusha</td>\n",
              "      <td>6.2</td>\n",
              "      <td>MA</td>\n",
              "      <td>Doha</td>\n",
              "      <td>23</td>\n",
              "      <td>Bunny</td>\n",
              "      <td>Basketball</td>\n",
              "      <td>Cashew Fudge</td>\n",
              "    </tr>\n",
              "  </tbody>\n",
              "</table>\n",
              "</div>\n",
              "    <div class=\"colab-df-buttons\">\n",
              "\n",
              "  <div class=\"colab-df-container\">\n",
              "    <button class=\"colab-df-convert\" onclick=\"convertToInteractive('df-53bd862a-2793-4480-9f06-75d32481dc37')\"\n",
              "            title=\"Convert this dataframe to an interactive table.\"\n",
              "            style=\"display:none;\">\n",
              "\n",
              "  <svg xmlns=\"http://www.w3.org/2000/svg\" height=\"24px\" viewBox=\"0 -960 960 960\">\n",
              "    <path d=\"M120-120v-720h720v720H120Zm60-500h600v-160H180v160Zm220 220h160v-160H400v160Zm0 220h160v-160H400v160ZM180-400h160v-160H180v160Zm440 0h160v-160H620v160ZM180-180h160v-160H180v160Zm440 0h160v-160H620v160Z\"/>\n",
              "  </svg>\n",
              "    </button>\n",
              "\n",
              "  <style>\n",
              "    .colab-df-container {\n",
              "      display:flex;\n",
              "      gap: 12px;\n",
              "    }\n",
              "\n",
              "    .colab-df-convert {\n",
              "      background-color: #E8F0FE;\n",
              "      border: none;\n",
              "      border-radius: 50%;\n",
              "      cursor: pointer;\n",
              "      display: none;\n",
              "      fill: #1967D2;\n",
              "      height: 32px;\n",
              "      padding: 0 0 0 0;\n",
              "      width: 32px;\n",
              "    }\n",
              "\n",
              "    .colab-df-convert:hover {\n",
              "      background-color: #E2EBFA;\n",
              "      box-shadow: 0px 1px 2px rgba(60, 64, 67, 0.3), 0px 1px 3px 1px rgba(60, 64, 67, 0.15);\n",
              "      fill: #174EA6;\n",
              "    }\n",
              "\n",
              "    .colab-df-buttons div {\n",
              "      margin-bottom: 4px;\n",
              "    }\n",
              "\n",
              "    [theme=dark] .colab-df-convert {\n",
              "      background-color: #3B4455;\n",
              "      fill: #D2E3FC;\n",
              "    }\n",
              "\n",
              "    [theme=dark] .colab-df-convert:hover {\n",
              "      background-color: #434B5C;\n",
              "      box-shadow: 0px 1px 3px 1px rgba(0, 0, 0, 0.15);\n",
              "      filter: drop-shadow(0px 1px 2px rgba(0, 0, 0, 0.3));\n",
              "      fill: #FFFFFF;\n",
              "    }\n",
              "  </style>\n",
              "\n",
              "    <script>\n",
              "      const buttonEl =\n",
              "        document.querySelector('#df-53bd862a-2793-4480-9f06-75d32481dc37 button.colab-df-convert');\n",
              "      buttonEl.style.display =\n",
              "        google.colab.kernel.accessAllowed ? 'block' : 'none';\n",
              "\n",
              "      async function convertToInteractive(key) {\n",
              "        const element = document.querySelector('#df-53bd862a-2793-4480-9f06-75d32481dc37');\n",
              "        const dataTable =\n",
              "          await google.colab.kernel.invokeFunction('convertToInteractive',\n",
              "                                                    [key], {});\n",
              "        if (!dataTable) return;\n",
              "\n",
              "        const docLinkHtml = 'Like what you see? Visit the ' +\n",
              "          '<a target=\"_blank\" href=https://colab.research.google.com/notebooks/data_table.ipynb>data table notebook</a>'\n",
              "          + ' to learn more about interactive tables.';\n",
              "        element.innerHTML = '';\n",
              "        dataTable['output_type'] = 'display_data';\n",
              "        await google.colab.output.renderOutput(dataTable, element);\n",
              "        const docLink = document.createElement('div');\n",
              "        docLink.innerHTML = docLinkHtml;\n",
              "        element.appendChild(docLink);\n",
              "      }\n",
              "    </script>\n",
              "  </div>\n",
              "\n",
              "\n",
              "<div id=\"df-b720acef-6bb8-4bc5-8e1e-3d207dd597cd\">\n",
              "  <button class=\"colab-df-quickchart\" onclick=\"quickchart('df-b720acef-6bb8-4bc5-8e1e-3d207dd597cd')\"\n",
              "            title=\"Suggest charts\"\n",
              "            style=\"display:none;\">\n",
              "\n",
              "<svg xmlns=\"http://www.w3.org/2000/svg\" height=\"24px\"viewBox=\"0 0 24 24\"\n",
              "     width=\"24px\">\n",
              "    <g>\n",
              "        <path d=\"M19 3H5c-1.1 0-2 .9-2 2v14c0 1.1.9 2 2 2h14c1.1 0 2-.9 2-2V5c0-1.1-.9-2-2-2zM9 17H7v-7h2v7zm4 0h-2V7h2v10zm4 0h-2v-4h2v4z\"/>\n",
              "    </g>\n",
              "</svg>\n",
              "  </button>\n",
              "\n",
              "<style>\n",
              "  .colab-df-quickchart {\n",
              "      --bg-color: #E8F0FE;\n",
              "      --fill-color: #1967D2;\n",
              "      --hover-bg-color: #E2EBFA;\n",
              "      --hover-fill-color: #174EA6;\n",
              "      --disabled-fill-color: #AAA;\n",
              "      --disabled-bg-color: #DDD;\n",
              "  }\n",
              "\n",
              "  [theme=dark] .colab-df-quickchart {\n",
              "      --bg-color: #3B4455;\n",
              "      --fill-color: #D2E3FC;\n",
              "      --hover-bg-color: #434B5C;\n",
              "      --hover-fill-color: #FFFFFF;\n",
              "      --disabled-bg-color: #3B4455;\n",
              "      --disabled-fill-color: #666;\n",
              "  }\n",
              "\n",
              "  .colab-df-quickchart {\n",
              "    background-color: var(--bg-color);\n",
              "    border: none;\n",
              "    border-radius: 50%;\n",
              "    cursor: pointer;\n",
              "    display: none;\n",
              "    fill: var(--fill-color);\n",
              "    height: 32px;\n",
              "    padding: 0;\n",
              "    width: 32px;\n",
              "  }\n",
              "\n",
              "  .colab-df-quickchart:hover {\n",
              "    background-color: var(--hover-bg-color);\n",
              "    box-shadow: 0 1px 2px rgba(60, 64, 67, 0.3), 0 1px 3px 1px rgba(60, 64, 67, 0.15);\n",
              "    fill: var(--button-hover-fill-color);\n",
              "  }\n",
              "\n",
              "  .colab-df-quickchart-complete:disabled,\n",
              "  .colab-df-quickchart-complete:disabled:hover {\n",
              "    background-color: var(--disabled-bg-color);\n",
              "    fill: var(--disabled-fill-color);\n",
              "    box-shadow: none;\n",
              "  }\n",
              "\n",
              "  .colab-df-spinner {\n",
              "    border: 2px solid var(--fill-color);\n",
              "    border-color: transparent;\n",
              "    border-bottom-color: var(--fill-color);\n",
              "    animation:\n",
              "      spin 1s steps(1) infinite;\n",
              "  }\n",
              "\n",
              "  @keyframes spin {\n",
              "    0% {\n",
              "      border-color: transparent;\n",
              "      border-bottom-color: var(--fill-color);\n",
              "      border-left-color: var(--fill-color);\n",
              "    }\n",
              "    20% {\n",
              "      border-color: transparent;\n",
              "      border-left-color: var(--fill-color);\n",
              "      border-top-color: var(--fill-color);\n",
              "    }\n",
              "    30% {\n",
              "      border-color: transparent;\n",
              "      border-left-color: var(--fill-color);\n",
              "      border-top-color: var(--fill-color);\n",
              "      border-right-color: var(--fill-color);\n",
              "    }\n",
              "    40% {\n",
              "      border-color: transparent;\n",
              "      border-right-color: var(--fill-color);\n",
              "      border-top-color: var(--fill-color);\n",
              "    }\n",
              "    60% {\n",
              "      border-color: transparent;\n",
              "      border-right-color: var(--fill-color);\n",
              "    }\n",
              "    80% {\n",
              "      border-color: transparent;\n",
              "      border-right-color: var(--fill-color);\n",
              "      border-bottom-color: var(--fill-color);\n",
              "    }\n",
              "    90% {\n",
              "      border-color: transparent;\n",
              "      border-bottom-color: var(--fill-color);\n",
              "    }\n",
              "  }\n",
              "</style>\n",
              "\n",
              "  <script>\n",
              "    async function quickchart(key) {\n",
              "      const quickchartButtonEl =\n",
              "        document.querySelector('#' + key + ' button');\n",
              "      quickchartButtonEl.disabled = true;  // To prevent multiple clicks.\n",
              "      quickchartButtonEl.classList.add('colab-df-spinner');\n",
              "      try {\n",
              "        const charts = await google.colab.kernel.invokeFunction(\n",
              "            'suggestCharts', [key], {});\n",
              "      } catch (error) {\n",
              "        console.error('Error during call to suggestCharts:', error);\n",
              "      }\n",
              "      quickchartButtonEl.classList.remove('colab-df-spinner');\n",
              "      quickchartButtonEl.classList.add('colab-df-quickchart-complete');\n",
              "    }\n",
              "    (() => {\n",
              "      let quickchartButtonEl =\n",
              "        document.querySelector('#df-b720acef-6bb8-4bc5-8e1e-3d207dd597cd button');\n",
              "      quickchartButtonEl.style.display =\n",
              "        google.colab.kernel.accessAllowed ? 'block' : 'none';\n",
              "    })();\n",
              "  </script>\n",
              "</div>\n",
              "\n",
              "  <div id=\"id_3576040e-1291-4b68-8145-e95219bee59e\">\n",
              "    <style>\n",
              "      .colab-df-generate {\n",
              "        background-color: #E8F0FE;\n",
              "        border: none;\n",
              "        border-radius: 50%;\n",
              "        cursor: pointer;\n",
              "        display: none;\n",
              "        fill: #1967D2;\n",
              "        height: 32px;\n",
              "        padding: 0 0 0 0;\n",
              "        width: 32px;\n",
              "      }\n",
              "\n",
              "      .colab-df-generate:hover {\n",
              "        background-color: #E2EBFA;\n",
              "        box-shadow: 0px 1px 2px rgba(60, 64, 67, 0.3), 0px 1px 3px 1px rgba(60, 64, 67, 0.15);\n",
              "        fill: #174EA6;\n",
              "      }\n",
              "\n",
              "      [theme=dark] .colab-df-generate {\n",
              "        background-color: #3B4455;\n",
              "        fill: #D2E3FC;\n",
              "      }\n",
              "\n",
              "      [theme=dark] .colab-df-generate:hover {\n",
              "        background-color: #434B5C;\n",
              "        box-shadow: 0px 1px 3px 1px rgba(0, 0, 0, 0.15);\n",
              "        filter: drop-shadow(0px 1px 2px rgba(0, 0, 0, 0.3));\n",
              "        fill: #FFFFFF;\n",
              "      }\n",
              "    </style>\n",
              "    <button class=\"colab-df-generate\" onclick=\"generateWithVariable('sorted_student')\"\n",
              "            title=\"Generate code using this dataframe.\"\n",
              "            style=\"display:none;\">\n",
              "\n",
              "  <svg xmlns=\"http://www.w3.org/2000/svg\" height=\"24px\"viewBox=\"0 0 24 24\"\n",
              "       width=\"24px\">\n",
              "    <path d=\"M7,19H8.4L18.45,9,17,7.55,7,17.6ZM5,21V16.75L18.45,3.32a2,2,0,0,1,2.83,0l1.4,1.43a1.91,1.91,0,0,1,.58,1.4,1.91,1.91,0,0,1-.58,1.4L9.25,21ZM18.45,9,17,7.55Zm-12,3A5.31,5.31,0,0,0,4.9,8.1,5.31,5.31,0,0,0,1,6.5,5.31,5.31,0,0,0,4.9,4.9,5.31,5.31,0,0,0,6.5,1,5.31,5.31,0,0,0,8.1,4.9,5.31,5.31,0,0,0,12,6.5,5.46,5.46,0,0,0,6.5,12Z\"/>\n",
              "  </svg>\n",
              "    </button>\n",
              "    <script>\n",
              "      (() => {\n",
              "      const buttonEl =\n",
              "        document.querySelector('#id_3576040e-1291-4b68-8145-e95219bee59e button.colab-df-generate');\n",
              "      buttonEl.style.display =\n",
              "        google.colab.kernel.accessAllowed ? 'block' : 'none';\n",
              "\n",
              "      buttonEl.onclick = () => {\n",
              "        google.colab.notebook.generateWithVariable('sorted_student');\n",
              "      }\n",
              "      })();\n",
              "    </script>\n",
              "  </div>\n",
              "\n",
              "    </div>\n",
              "  </div>\n"
            ],
            "application/vnd.google.colaboratory.intrinsic+json": {
              "type": "dataframe",
              "variable_name": "sorted_student",
              "summary": "{\n  \"name\": \"sorted_student\",\n  \"rows\": 4,\n  \"fields\": [\n    {\n      \"column\": \"Name\",\n      \"properties\": {\n        \"dtype\": \"string\",\n        \"num_unique_values\": 4,\n        \"samples\": [\n          \"Gaurav\",\n          \"janusha\",\n          \"Anuj\"\n        ],\n        \"semantic_type\": \"\",\n        \"description\": \"\"\n      }\n    },\n    {\n      \"column\": \"Height\",\n      \"properties\": {\n        \"dtype\": \"number\",\n        \"std\": 0.5354126134736339,\n        \"min\": 5.1,\n        \"max\": 6.2,\n        \"num_unique_values\": 3,\n        \"samples\": [\n          5.2,\n          5.1,\n          6.2\n        ],\n        \"semantic_type\": \"\",\n        \"description\": \"\"\n      }\n    },\n    {\n      \"column\": \"Qualification\",\n      \"properties\": {\n        \"dtype\": \"string\",\n        \"num_unique_values\": 2,\n        \"samples\": [\n          \"MA\",\n          \"Msc\"\n        ],\n        \"semantic_type\": \"\",\n        \"description\": \"\"\n      }\n    },\n    {\n      \"column\": \"address\",\n      \"properties\": {\n        \"dtype\": \"string\",\n        \"num_unique_values\": 4,\n        \"samples\": [\n          \"Chennai\",\n          \"Doha\"\n        ],\n        \"semantic_type\": \"\",\n        \"description\": \"\"\n      }\n    },\n    {\n      \"column\": \"Age\",\n      \"properties\": {\n        \"dtype\": \"number\",\n        \"std\": 1,\n        \"min\": 21,\n        \"max\": 24,\n        \"num_unique_values\": 3,\n        \"samples\": [\n          21,\n          24\n        ],\n        \"semantic_type\": \"\",\n        \"description\": \"\"\n      }\n    },\n    {\n      \"column\": \"Pets\",\n      \"properties\": {\n        \"dtype\": \"string\",\n        \"num_unique_values\": 4,\n        \"samples\": [\n          \"Chinchilla\",\n          \"Bunny\"\n        ],\n        \"semantic_type\": \"\",\n        \"description\": \"\"\n      }\n    },\n    {\n      \"column\": \"sport\",\n      \"properties\": {\n        \"dtype\": \"string\",\n        \"num_unique_values\": 4,\n        \"samples\": [\n          \"PaddleBoarding\",\n          \"Basketball\"\n        ],\n        \"semantic_type\": \"\",\n        \"description\": \"\"\n      }\n    },\n    {\n      \"column\": \"Desserts\",\n      \"properties\": {\n        \"dtype\": \"string\",\n        \"num_unique_values\": 4,\n        \"samples\": [\n          \"Waffles\",\n          \"Cashew Fudge\"\n        ],\n        \"semantic_type\": \"\",\n        \"description\": \"\"\n      }\n    }\n  ]\n}"
            }
          },
          "metadata": {},
          "execution_count": 27
        }
      ]
    },
    {
      "cell_type": "code",
      "source": [
        "# Save this DataFrame here below to disc as a .CSV file with the name cows_and_goats.csv:\n",
        "df = pd.DataFrame({'Cows': [12, 20], 'Goats': [22, 19]}, index=['Year 1', 'Year 2'])\n",
        "df.to_csv('cows_and_goats.csv', index=True)"
      ],
      "metadata": {
        "id": "2R4-XkU1E3A3"
      },
      "execution_count": 28,
      "outputs": []
    },
    {
      "cell_type": "code",
      "source": [
        "# (A) Using Pandas, make your own .CSV file with data on vegetables and save it.\n",
        "# (B) Using Pandas, make a change to your CSV file, and save a copy with a different name.\n",
        "\n",
        "vegetables_data = {\n",
        "    'Vegetable': ['Carrot', 'Broccoli', 'Spinach'],\n",
        "    'Quantity': [11, 52, 23],\n",
        "    'Unit': ['lbs', 'lbs', 'lbs']\n",
        "}\n",
        "vegetables_df = pd.DataFrame(vegetables_data)\n",
        "vegetables_df.to_csv('vegetables.csv', index=False)\n",
        "\n",
        "# (B) Make a change to the CSV file\n",
        "vegetables_df['Quantity'] += 3\n",
        "vegetables_df.to_csv('vegetables_updated.csv', index=False)"
      ],
      "metadata": {
        "id": "4W3xlv9JE29h"
      },
      "execution_count": 29,
      "outputs": []
    }
  ]
}